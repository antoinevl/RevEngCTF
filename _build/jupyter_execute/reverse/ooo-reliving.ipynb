{
 "cells": [
  {
   "cell_type": "markdown",
   "metadata": {},
   "source": [
    "# Game of Life"
   ]
  },
  {
   "cell_type": "markdown",
   "metadata": {},
   "source": [
    "## Introduction\n",
    "\n",
    "__Solved by__: [avl](https://twitter.com/avlsec)\n",
    "\n",
    "__Event__: DEFCON CTF Quals 2020: https://ctftime.org/event/994\n",
    "\n",
    "__Challenge name__: Fountain OOO REliving (115 pts)\n",
    "\n",
    "__Description__: We have found the fountain OOO RElive. By discovering its secrets, you will restart the game of life with a chance to do it all over again. This challenge is in memory of John Conway (26 December 1937 – 11 April 2020).\n",
    "\n",
    "__File__: `fountain-ooo-relive`"
   ]
  },
  {
   "cell_type": "markdown",
   "metadata": {},
   "source": [
    "## First analysis"
   ]
  },
  {
   "cell_type": "markdown",
   "metadata": {},
   "source": [
    "We quickly realise `fountain-ooo-relive` is a MacroCell file representing a pattern that can be imported into the Golly software. Which corroborates the fact this challenge is a tribute to John Conway, a British mathematician famous for its cellular automation called \"Game of Life\".\n",
    "\n",
    "Wikipedia is your friend: [https://en.wikipedia.org/wiki/Conway%27s_Game_of_Life](https://en.wikipedia.org/wiki/Conway%27s_Game_of_Life)\n",
    "\n",
    "Link to software: [http://golly.sourceforge.net/](http://golly.sourceforge.net/)"
   ]
  },
  {
   "cell_type": "code",
   "execution_count": 1,
   "metadata": {},
   "outputs": [],
   "source": [
    "with open('fountain-ooo-relive', 'r') as f:\n",
    "    data = f.read()"
   ]
  },
  {
   "cell_type": "code",
   "execution_count": 15,
   "metadata": {},
   "outputs": [
    {
     "data": {
      "text/plain": [
       "['[M2]', '# GOOOlly its the Fountain OOO REliving']"
      ]
     },
     "execution_count": 15,
     "metadata": {},
     "output_type": "execute_result"
    }
   ],
   "source": [
    "data.splitlines()[:2]"
   ]
  },
  {
   "cell_type": "markdown",
   "metadata": {},
   "source": [
    "After importing the file as a pattern into Golly, we obtain this:"
   ]
  },
  {
   "cell_type": "markdown",
   "metadata": {},
   "source": [
    "![](../_images/golly.png)"
   ]
  },
  {
   "cell_type": "markdown",
   "metadata": {},
   "source": [
    "... which very much looks like a computer architecture!\n",
    "\n",
    "It turns out to be a minimalistic RISC architecture designed by a bunch of people who were challenged to make Tetris run on top of Golly. Here is a link to this epic thread: [https://codegolf.stackexchange.com/questions/11880/build-a-working-game-of-tetris-in-conways-game-of-life](https://codegolf.stackexchange.com/questions/11880/build-a-working-game-of-tetris-in-conways-game-of-life)\n",
    "\n",
    "They basically built:\n",
    "- a basic RISC architecture\n",
    "- an assembly language\n",
    "- an interpreter\n",
    "- a higher-level language called Cogol"
   ]
  },
  {
   "cell_type": "markdown",
   "metadata": {},
   "source": [
    "## Find the flag"
   ]
  },
  {
   "cell_type": "markdown",
   "metadata": {},
   "source": [
    "Having read the above thread, it becomes obvious that the flag will be derived from instructions the organisers concealed into the memory of that custom computer.\n",
    "\n",
    "But where are the instructions stored in memory? In the ROM! The instructions fetched from the ROM then update values of memory locations located in the RAM, after execution. \n",
    "\n",
    "The goal here is therefore to find instructions from the ROM.\n",
    "\n",
    "The below figure shows where the ROM and the RAM are."
   ]
  },
  {
   "cell_type": "markdown",
   "metadata": {},
   "source": [
    "![](../_images/golly2.png)"
   ]
  },
  {
   "cell_type": "markdown",
   "metadata": {},
   "source": [
    "If we zoom in on the ROM, we get..."
   ]
  },
  {
   "cell_type": "markdown",
   "metadata": {},
   "source": [
    "![](../_images/ROM.png)"
   ]
  },
  {
   "cell_type": "markdown",
   "metadata": {},
   "source": [
    "...a grid of automates that represents bits in memory. So we've got two different automates corresponding to 0s and 1s.\n",
    "\n",
    "For example, if we zoom in even more, the automate representing \"1\" is ![](../_images/1.png)"
   ]
  },
  {
   "cell_type": "markdown",
   "metadata": {},
   "source": [
    "## Let the fun begin"
   ]
  },
  {
   "cell_type": "markdown",
   "metadata": {},
   "source": [
    "My approach here was:\n",
    "- Use computer vision to detect patterns corresponding to 1s\n",
    "- Create a corresponding matrix with the fetched 0s and 1s\n",
    "- Parse the binary code to get assembly code\n",
    "- Find the flag from the assembly"
   ]
  },
  {
   "cell_type": "markdown",
   "metadata": {},
   "source": [
    "### Detect bits with OpenCV\n",
    "\n",
    "The below code detects 1s and upload them in the `coords` array."
   ]
  },
  {
   "cell_type": "code",
   "execution_count": null,
   "metadata": {},
   "outputs": [],
   "source": [
    "import cv2\n",
    "import numpy as np\n",
    "from matplotlib import pyplot as plt\n",
    "\n",
    "img_rgb = cv2.imread('../_images/ROM.png') # Screenshot of the ROM\n",
    "img_gray = cv2.cvtColor(img_rgb, cv2.COLOR_BGR2GRAY)\n",
    "\n",
    "template = cv2.imread('../_images/1.png',0) # Screenshot of a pattern coresponding to \"1\"\n",
    "\n",
    "w, h = template.shape[::-1]\n",
    "\n",
    "res = cv2.matchTemplate(img_gray,template,cv2.TM_CCOEFF_NORMED)\n",
    "threshold = 0.8\n",
    "loc = np.where( res >= threshold)\n",
    "\n",
    "coords = []\n",
    "\n",
    "for pt in zip(*loc[::-1]):\n",
    "    cv2.rectangle(img_rgb, pt, (pt[0] + w, pt[1] + h), (0,0,255), 2)\n",
    "    coords.append(pt)\n",
    "\n",
    "cv2.imwrite('../_images/res.png',img_rgb)"
   ]
  },
  {
   "cell_type": "markdown",
   "metadata": {},
   "source": [
    "And it gives:"
   ]
  },
  {
   "cell_type": "markdown",
   "metadata": {},
   "source": [
    "![](../_images/res.png)"
   ]
  },
  {
   "cell_type": "markdown",
   "metadata": {},
   "source": [
    "### Coordinates to matrix\n",
    "\n",
    "We then convert the results stored in the `coords` array to a matrix."
   ]
  },
  {
   "cell_type": "code",
   "execution_count": 24,
   "metadata": {},
   "outputs": [],
   "source": [
    "n_cols = 116\n",
    "n_lines = 59 # with the first one \n",
    "delta = 22\n",
    "start_y = 6\n",
    "start_x = 4\n",
    "\n",
    "mat = np.zeros((59,116),int)\n",
    "\n",
    "new_coords = []\n",
    "for c in coords:\n",
    "    x,y = c\n",
    "    x = int((x - start_x)/delta)\n",
    "    y = int((y - start_y)/delta)\n",
    "    new_coords.append((x,y))\n",
    "    mat[y][x] = 1"
   ]
  },
  {
   "cell_type": "code",
   "execution_count": 22,
   "metadata": {},
   "outputs": [
    {
     "data": {
      "text/plain": [
       "<matplotlib.image.AxesImage at 0x13112bf90>"
      ]
     },
     "execution_count": 22,
     "metadata": {},
     "output_type": "execute_result"
    },
    {
     "data": {
      "image/png": "[encoded data removed]",
      "text/plain": [
       "<Figure size 1440x720 with 1 Axes>"
      ]
     },
     "metadata": {
      "filenames": {
       "image/png": "/Users/avianeyliaud/Documents/Perso/Misc Notebooks/Jupyter Book/RevEngCTF/_build/jupyter_execute/reverse/ooo-reliving_23_1.png"
      },
      "needs_background": "light"
     },
     "output_type": "display_data"
    }
   ],
   "source": [
    "plt.figure(figsize=(20,10))\n",
    "plt.imshow(mat)"
   ]
  },
  {
   "cell_type": "markdown",
   "metadata": {},
   "source": [
    "### Matrix to binary code instructions\n",
    "\n",
    "Following the Stack Overflow thread, we can turn the matrix into instruction lines, which we store in the `code` variable. "
   ]
  },
  {
   "cell_type": "code",
   "execution_count": 28,
   "metadata": {},
   "outputs": [],
   "source": [
    "code = \"\"\n",
    "for j in range(n_cols):\n",
    "    for i in range(n_lines - 1):\n",
    "        if mat[i+1][j] == 1:\n",
    "            code += '1'\n",
    "        else:\n",
    "            code += '0'\n",
    "    code += '\\n'"
   ]
  },
  {
   "cell_type": "code",
   "execution_count": 27,
   "metadata": {},
   "outputs": [
    {
     "data": {
      "text/plain": [
       "['0000000000000000000000000000000000000000000000000000000001',\n",
       " '0000000000000000000011111111111111100011111111111111110001',\n",
       " '0000000000001001100100000000001001100100000000001001110011',\n",
       " '0000000000001001110010101010110001110100000000000000010110',\n",
       " '0000000000001001010100000000001001010100000000001001110011',\n",
       " '0000000000001001110011000111011000110100000000000000010110',\n",
       " '0000000000001001000100000000001001000100000000001001110011',\n",
       " '0000000000001001110010101101001001100100000000000000010110',\n",
       " '0000000000001000110100000000001000110100000000001001110011',\n",
       " '0000000000001001110010101101101111010100000000000000010110']"
      ]
     },
     "execution_count": 27,
     "metadata": {},
     "output_type": "execute_result"
    }
   ],
   "source": [
    "code.splitlines()[:10]"
   ]
  },
  {
   "cell_type": "markdown",
   "metadata": {},
   "source": [
    "### Binary code to assembly instructions"
   ]
  },
  {
   "cell_type": "markdown",
   "metadata": {},
   "source": [
    "\"Assembly to binary code\" has been implemented in the Python script: [https://github.com/QuestForTetris/QFT/blob/master/CreateROM.py](https://github.com/QuestForTetris/QFT/blob/master/CreateROM.py)\n",
    "\n",
    "We reversed that script to get a \"binary code to assembly\" function. \n",
    "\n",
    "Assembly instructions are now stored in the `asm` variable."
   ]
  },
  {
   "cell_type": "code",
   "execution_count": 30,
   "metadata": {},
   "outputs": [],
   "source": [
    "from bitstring import BitArray\n",
    "\n",
    "opcodes = {'0000': 'MNZ',\n",
    "           '0001': 'MLZ',\n",
    "           '0010': 'ADD',\n",
    "           '0011': 'SUB',\n",
    "           '0100': 'AND',\n",
    "           '0101': 'OR',\n",
    "           '0110': 'XOR',\n",
    "           '0111': 'ANT',\n",
    "           '1000': 'SL',\n",
    "           '1001': 'SRL',\n",
    "           '1010': 'SRA'}\n",
    "\n",
    "modes = {'00': '',\n",
    "         '01': 'A',\n",
    "         '10': 'B',\n",
    "         '11': 'C'}\n",
    "\n",
    "def parse(code):\n",
    "    out = \"\"\n",
    "    count = 0 \n",
    "    for l in code.splitlines()[::-1]:\n",
    "        opcode = opcodes[l[-4:]]\n",
    "        arg1 = l[18*2:-4]\n",
    "        arg2 = l[18:18*2]\n",
    "        arg3 = l[:18]\n",
    "        mode1 = modes[arg1[:2]]\n",
    "        arg1 = str(BitArray(bin=arg1[2:]).int)\n",
    "        mode2 = modes[arg2[:2]]\n",
    "        arg2 = str(BitArray(bin=arg2[2:]).int)\n",
    "        mode3 = modes[arg3[:2]]\n",
    "        arg3 = str(BitArray(bin=arg3[2:]).int)\n",
    "        out += str(count) + '. ' + opcode + ' ' + mode1 + arg1 + ' ' + mode2 + arg2 + ' ' + mode3 + arg3 +'\\n'\n",
    "        count+=1\n",
    "    return out"
   ]
  },
  {
   "cell_type": "code",
   "execution_count": 31,
   "metadata": {},
   "outputs": [],
   "source": [
    "asm = parse(code)"
   ]
  },
  {
   "cell_type": "code",
   "execution_count": 32,
   "metadata": {},
   "outputs": [
    {
     "name": "stdout",
     "output_type": "stream",
     "text": [
      "0. MLZ -1 44 43\n",
      "1. XOR 0 0 2\n",
      "2. MLZ -1 25971 2\n",
      "3. MLZ -1 14554 3\n",
      "4. MLZ -1 22445 4\n",
      "5. MLZ -1 25411 5\n",
      "6. MLZ -1 3743 6\n",
      "7. MLZ -1 13391 7\n",
      "8. MLZ -1 12059 8\n",
      "9. MLZ -1 2554 9\n",
      "10. MLZ -1 15823 10\n",
      "11. MLZ -1 5921 11\n",
      "12. MLZ -1 18009 12\n",
      "13. MLZ -1 14823 13\n",
      "14. MLZ -1 4757 14\n",
      "15. MLZ -1 7754 15\n",
      "16. MLZ -1 22480 16\n",
      "17. MLZ -1 8371 17\n",
      "18. MLZ -1 12418 18\n",
      "19. MLZ -1 22738 19\n",
      "20. MLZ -1 16499 20\n",
      "21. MLZ -1 7132 21\n",
      "22. MLZ -1 22793 22\n",
      "23. MLZ -1 22307 23\n",
      "24. MLZ -1 12485 24\n",
      "25. MLZ -1 7936 25\n",
      "26. MLZ -1 26630 26\n",
      "27. MLZ -1 15483 27\n",
      "28. MLZ -1 6471 28\n",
      "29. MLZ -1 1806 29\n",
      "30. MLZ -1 22705 30\n",
      "31. MLZ -1 25019 31\n",
      "32. MLZ -1 16442 32\n",
      "33. MLZ -1 5145 33\n",
      "34. MLZ -1 15593 34\n",
      "35. MLZ -1 23867 35\n",
      "36. MLZ -1 23738 36\n",
      "37. MLZ -1 14086 37\n",
      "38. MLZ -1 23123 38\n",
      "39. MLZ -1 0 39\n",
      "40. XOR A1 -27179 39\n",
      "41. SUB A39 A2 2\n",
      "42. XOR A1 -14018 39\n",
      "43. SUB A39 A3 3\n",
      "44. XOR A1 -22549 39\n",
      "45. SUB A39 A4 4\n",
      "46. XOR A1 -27735 39\n",
      "47. SUB A39 A5 5\n",
      "48. XOR A1 -225 39\n",
      "49. SUB A39 A6 6\n",
      "50. XOR A1 -15190 39\n",
      "51. SUB A39 A7 7\n",
      "52. XOR A1 -8339 39\n",
      "53. SUB A39 A8 8\n",
      "54. XOR A1 -1415 39\n",
      "55. SUB A39 A9 9\n",
      "56. XOR A1 -12768 39\n",
      "57. SUB A39 A10 10\n",
      "58. XOR A1 -6243 39\n",
      "59. SUB A39 A11 11\n",
      "60. XOR A1 -18725 39\n",
      "61. SUB A39 A12 12\n",
      "62. XOR A1 -13743 39\n",
      "63. SUB A39 A13 13\n",
      "64. XOR A1 -7402 39\n",
      "65. SUB A39 A14 14\n",
      "66. XOR A1 -4444 39\n",
      "67. SUB A39 A15 15\n",
      "68. XOR A1 -22495 39\n",
      "69. SUB A39 A16 16\n",
      "70. XOR A1 -12017 39\n",
      "71. SUB A39 A17 17\n",
      "72. XOR A1 -16138 39\n",
      "73. SUB A39 A18 18\n",
      "74. XOR A1 -22234 39\n",
      "75. SUB A39 A19 19\n",
      "76. XOR A1 -20283 39\n",
      "77. SUB A39 A20 20\n",
      "78. XOR A1 -5054 39\n",
      "79. SUB A39 A21 21\n",
      "80. XOR A1 -22161 39\n",
      "81. SUB A39 A22 22\n",
      "82. XOR A1 -22641 39\n",
      "83. SUB A39 A23 23\n",
      "84. XOR A1 -16096 39\n",
      "85. SUB A39 A24 24\n",
      "86. XOR A1 -4238 39\n",
      "87. SUB A39 A25 25\n",
      "88. XOR A1 -26510 39\n",
      "89. SUB A39 A26 26\n",
      "90. XOR A1 -13059 39\n",
      "91. SUB A39 A27 27\n",
      "92. XOR A1 -5726 39\n",
      "93. SUB A39 A28 28\n",
      "94. XOR A1 -2182 39\n",
      "95. SUB A39 A29 29\n",
      "96. XOR A1 -22211 39\n",
      "97. SUB A39 A30 30\n",
      "98. XOR A1 -28099 39\n",
      "99. SUB A39 A31 31\n",
      "100. XOR A1 -20296 39\n",
      "101. SUB A39 A32 32\n",
      "102. XOR A1 -7012 39\n",
      "103. SUB A39 A33 33\n",
      "104. XOR A1 -12961 39\n",
      "105. SUB A39 A34 34\n",
      "106. XOR A1 -21059 39\n",
      "107. SUB A39 A35 35\n",
      "108. XOR A1 -21210 39\n",
      "109. SUB A39 A36 36\n",
      "110. XOR A1 -14493 39\n",
      "111. SUB A39 A37 37\n",
      "112. XOR A1 -21817 39\n",
      "113. SUB A39 A38 38\n",
      "114. MLZ -1 -2 0\n",
      "115. MLZ 0 0 0\n",
      "\n"
     ]
    }
   ],
   "source": [
    "print(asm)"
   ]
  },
  {
   "cell_type": "markdown",
   "metadata": {},
   "source": [
    "### Interpreter"
   ]
  },
  {
   "cell_type": "markdown",
   "metadata": {},
   "source": [
    "An interpreter exists: [http://play.starmaninnovations.com/qftasm/](http://play.starmaninnovations.com/qftasm/)\n",
    "\n",
    "But the code is easy enough to be analysed quickly:\n",
    "* The `MLZ -1 [n] [addr]` instructions set the `addr` value to the number `n`.\n",
    "* Addresses 2 to 38 contain values that then get updated using `XOR` and `SUB` methods.\n",
    "* Two other variables located respectively in addresses 1 and 39 are being used to perform the updates.\n",
    "* Value at address 39 is known but not at address 1."
   ]
  },
  {
   "cell_type": "code",
   "execution_count": 35,
   "metadata": {},
   "outputs": [],
   "source": [
    "def interpreter(asm, addr1):\n",
    "    init = []\n",
    "    xored = []\n",
    "    for l in asm.splitlines()[2:39]:\n",
    "        init.append(int(l.split()[3]))\n",
    "    for l in asm.splitlines()[40:-2:2]:\n",
    "        xored.append(int(l.split()[3]))\n",
    "    return [(addr1^v)-u+32768 for u,v in zip(init,xored)]"
   ]
  },
  {
   "cell_type": "markdown",
   "metadata": {},
   "source": [
    "### Solving the challenge\n",
    "\n",
    "* We know that the flag starts with `OOO`.\n",
    "* As address 1 is unknown, the last step here is to try out different possibilities for that address (bruteforce) until we find the ASCII decimal code to the `O` character in the 3 first addresses containing the flag (2, 3 and 4)."
   ]
  },
  {
   "cell_type": "code",
   "execution_count": 36,
   "metadata": {},
   "outputs": [],
   "source": [
    "def solve(asm):\n",
    "    for i in range(37000):\n",
    "        l = interpreter(asm, i)\n",
    "        if l[:3] == [79,79,79]:\n",
    "            return \"\".join([chr(u) for u in l])\n",
    "    return 'Not found'"
   ]
  },
  {
   "cell_type": "code",
   "execution_count": 37,
   "metadata": {},
   "outputs": [
    {
     "data": {
      "text/plain": [
       "'OOO{in_this_life___youre_on_your_own}'"
      ]
     },
     "execution_count": 37,
     "metadata": {},
     "output_type": "execute_result"
    }
   ],
   "source": [
    "solve(asm)"
   ]
  }
 ],
 "metadata": {
  "kernelspec": {
   "display_name": "Python 3",
   "language": "python",
   "name": "python3"
  },
  "language_info": {
   "codemirror_mode": {
    "name": "ipython",
    "version": 3
   },
   "file_extension": ".py",
   "mimetype": "text/x-python",
   "name": "python",
   "nbconvert_exporter": "python",
   "pygments_lexer": "ipython3",
   "version": "3.7.4"
  }
 },
 "nbformat": 4,
 "nbformat_minor": 4
}